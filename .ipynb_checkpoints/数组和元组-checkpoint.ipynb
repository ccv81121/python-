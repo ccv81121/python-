{
 "cells": [
  {
   "cell_type": "markdown",
   "id": "205ca3de",
   "metadata": {},
   "source": [
    "# 列表和元组基础\n",
    "\n",
    "- 实际上，列表和元组都是**一个可以放置人意数据类型的有序集合**。\n",
    "- 大多数编程语言中，集合的数据类型必须一致。对于python的列表和元组来说并无此要求。"
   ]
  },
  {
   "cell_type": "code",
   "execution_count": 3,
   "id": "07ffbc9a",
   "metadata": {
    "ExecuteTime": {
     "end_time": "2022-04-11T14:39:16.743436Z",
     "start_time": "2022-04-11T14:39:16.727479Z"
    }
   },
   "outputs": [
    {
     "name": "stdout",
     "output_type": "stream",
     "text": [
      "[1, 2, 'hello', 'world']\n"
     ]
    },
    {
     "data": {
      "text/plain": [
       "22"
      ]
     },
     "execution_count": 3,
     "metadata": {},
     "output_type": "execute_result"
    }
   ],
   "source": [
    "\n",
    "l = [1, 2, 'hello', 'world'] # 列表中同时含有int和string类型的元素\n",
    "print(l)\n",
    "\n",
    "tup = ('jason', 22) # 元组中同时含有int和string类型的元素\n",
    "tup[1]"
   ]
  },
  {
   "cell_type": "markdown",
   "id": "796cee84",
   "metadata": {},
   "source": [
    "# 列表和元组的区别\n",
    "- **列表是动态的，长度大小不定，可以随意地增删改元素**。\n",
    "- **元组是静态的，长度大小规定，无法增加删减或者改变**。"
   ]
  },
  {
   "cell_type": "code",
   "execution_count": 2,
   "id": "b21e9e64",
   "metadata": {
    "ExecuteTime": {
     "end_time": "2022-04-11T14:38:59.825227Z",
     "start_time": "2022-04-11T14:38:59.649650Z"
    }
   },
   "outputs": [
    {
     "name": "stdout",
     "output_type": "stream",
     "text": [
      "[1, 2, 3, 40]\n"
     ]
    },
    {
     "ename": "TypeError",
     "evalue": "'tuple' object does not support item assignment",
     "output_type": "error",
     "traceback": [
      "\u001b[1;31m---------------------------------------------------------------------------\u001b[0m",
      "\u001b[1;31mTypeError\u001b[0m                                 Traceback (most recent call last)",
      "\u001b[1;32m<ipython-input-2-561ee1bb02a5>\u001b[0m in \u001b[0;36m<module>\u001b[1;34m\u001b[0m\n\u001b[0;32m      5\u001b[0m \u001b[1;33m\u001b[0m\u001b[0m\n\u001b[0;32m      6\u001b[0m \u001b[0mtup\u001b[0m \u001b[1;33m=\u001b[0m \u001b[1;33m(\u001b[0m\u001b[1;36m1\u001b[0m\u001b[1;33m,\u001b[0m \u001b[1;36m2\u001b[0m\u001b[1;33m,\u001b[0m \u001b[1;36m3\u001b[0m\u001b[1;33m,\u001b[0m \u001b[1;36m4\u001b[0m\u001b[1;33m)\u001b[0m\u001b[1;33m\u001b[0m\u001b[1;33m\u001b[0m\u001b[0m\n\u001b[1;32m----> 7\u001b[1;33m \u001b[0mtup\u001b[0m\u001b[1;33m[\u001b[0m\u001b[1;36m3\u001b[0m\u001b[1;33m]\u001b[0m \u001b[1;33m=\u001b[0m \u001b[1;36m40\u001b[0m\u001b[1;33m\u001b[0m\u001b[1;33m\u001b[0m\u001b[0m\n\u001b[0m",
      "\u001b[1;31mTypeError\u001b[0m: 'tuple' object does not support item assignment"
     ]
    }
   ],
   "source": [
    "\n",
    "l = [1, 2, 3, 4]\n",
    "l[3] = 40 # 和很多语言类似，python中索引同样从0开始，l[3]表示访问列表的第四个元素\n",
    "print(l)\n",
    "\n",
    "\n",
    "tup = (1, 2, 3, 4)\n",
    "tup[3] = 40"
   ]
  },
  {
   "cell_type": "markdown",
   "id": "4fec6aa6",
   "metadata": {},
   "source": [
    "- 如果想要对集合中的元素做出改变的话，**元组只能新开辟一块内存**，创建新的元组了。\n",
    "- 而对列表来说，由于有指向对应内存空间地址的索引信息，只需要在对应的内存单元中改变数据即可，也就是说**修改完还是原来的列表**。"
   ]
  },
  {
   "cell_type": "code",
   "execution_count": 5,
   "id": "ce10b361",
   "metadata": {
    "ExecuteTime": {
     "end_time": "2022-04-11T14:45:19.825933Z",
     "start_time": "2022-04-11T14:45:19.814962Z"
    }
   },
   "outputs": [
    {
     "name": "stdout",
     "output_type": "stream",
     "text": [
      "(1, 2, 3, 4, 5)\n"
     ]
    },
    {
     "data": {
      "text/plain": [
       "[1, 2, 3, 4, 5]"
      ]
     },
     "execution_count": 5,
     "metadata": {},
     "output_type": "execute_result"
    }
   ],
   "source": [
    "\n",
    "tup = (1, 2, 3, 4)\n",
    "new_tup = tup + (5, ) # 创建新的元组new_tup，并依次填充原元组的值\n",
    "print(new_tup)\n",
    "\n",
    "\n",
    "l = [1, 2, 3, 4]\n",
    "l.append(5) # 添加元素5到原列表的末尾\n",
    "l"
   ]
  },
  {
   "cell_type": "markdown",
   "id": "bf94b329",
   "metadata": {},
   "source": [
    "# 负索引\n",
    "- 和其他语言不同，**python中的列表和元组都支持负数索引**，-1表示最后一个元素，-2表示倒数第二个元素，以此类推。"
   ]
  },
  {
   "cell_type": "code",
   "execution_count": 6,
   "id": "61b24151",
   "metadata": {
    "ExecuteTime": {
     "end_time": "2022-04-11T14:47:25.213797Z",
     "start_time": "2022-04-11T14:47:25.193852Z"
    }
   },
   "outputs": [
    {
     "name": "stdout",
     "output_type": "stream",
     "text": [
      "4\n"
     ]
    },
    {
     "data": {
      "text/plain": [
       "4"
      ]
     },
     "execution_count": 6,
     "metadata": {},
     "output_type": "execute_result"
    }
   ],
   "source": [
    "\n",
    "l = [1, 2, 3, 4]\n",
    "print(l[-1])\n",
    "\n",
    "\n",
    "tup = (1, 2, 3, 4)\n",
    "tup[-1]"
   ]
  },
  {
   "cell_type": "markdown",
   "id": "10e75526",
   "metadata": {},
   "source": [
    "# 切片操作\n",
    "- **注意切片的最后一个元素不包含在其中**"
   ]
  },
  {
   "cell_type": "code",
   "execution_count": 7,
   "id": "f7c2c889",
   "metadata": {
    "ExecuteTime": {
     "end_time": "2022-04-11T14:49:23.040904Z",
     "start_time": "2022-04-11T14:49:23.029896Z"
    }
   },
   "outputs": [
    {
     "name": "stdout",
     "output_type": "stream",
     "text": [
      "[2, 3]\n"
     ]
    },
    {
     "data": {
      "text/plain": [
       "(2, 3)"
      ]
     },
     "execution_count": 7,
     "metadata": {},
     "output_type": "execute_result"
    }
   ],
   "source": [
    "\n",
    "l = [1, 2, 3, 4]\n",
    "print(l[1:3]) # 返回列表中索引从1到2的子列表\n",
    "\n",
    "tup = (1, 2, 3, 4)\n",
    "tup[1:3] # 返回元组中索引从1到2的子元组 "
   ]
  },
  {
   "cell_type": "markdown",
   "id": "cf2835ae",
   "metadata": {},
   "source": [
    "# 其他操作\n",
    "- 列表和元组之间互相转换"
   ]
  },
  {
   "cell_type": "code",
   "execution_count": 8,
   "id": "cdc47890",
   "metadata": {
    "ExecuteTime": {
     "end_time": "2022-04-11T14:57:30.880723Z",
     "start_time": "2022-04-11T14:57:30.865763Z"
    }
   },
   "outputs": [
    {
     "name": "stdout",
     "output_type": "stream",
     "text": [
      "(1, 2, 3, 4)\n",
      "[1, 2, 3, 4]\n"
     ]
    }
   ],
   "source": [
    "l = [1,2,3,4]\n",
    "tup_1 = tuple(l)\n",
    "l_tup = list(tup_1)\n",
    "print(tup_1)\n",
    "print(l_tup)"
   ]
  },
  {
   "cell_type": "code",
   "execution_count": null,
   "id": "6b9a46c7",
   "metadata": {},
   "outputs": [],
   "source": []
  }
 ],
 "metadata": {
  "kernelspec": {
   "display_name": "Python 3",
   "language": "python",
   "name": "python3"
  },
  "language_info": {
   "codemirror_mode": {
    "name": "ipython",
    "version": 3
   },
   "file_extension": ".py",
   "mimetype": "text/x-python",
   "name": "python",
   "nbconvert_exporter": "python",
   "pygments_lexer": "ipython3",
   "version": "3.8.8"
  },
  "toc": {
   "base_numbering": 1,
   "nav_menu": {},
   "number_sections": true,
   "sideBar": true,
   "skip_h1_title": false,
   "title_cell": "Table of Contents",
   "title_sidebar": "Contents",
   "toc_cell": false,
   "toc_position": {},
   "toc_section_display": true,
   "toc_window_display": false
  },
  "varInspector": {
   "cols": {
    "lenName": 16,
    "lenType": 16,
    "lenVar": 40
   },
   "kernels_config": {
    "python": {
     "delete_cmd_postfix": "",
     "delete_cmd_prefix": "del ",
     "library": "var_list.py",
     "varRefreshCmd": "print(var_dic_list())"
    },
    "r": {
     "delete_cmd_postfix": ") ",
     "delete_cmd_prefix": "rm(",
     "library": "var_list.r",
     "varRefreshCmd": "cat(var_dic_list()) "
    }
   },
   "types_to_exclude": [
    "module",
    "function",
    "builtin_function_or_method",
    "instance",
    "_Feature"
   ],
   "window_display": false
  }
 },
 "nbformat": 4,
 "nbformat_minor": 5
}
