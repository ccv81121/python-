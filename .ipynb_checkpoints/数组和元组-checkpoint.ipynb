{
 "cells": [
  {
   "cell_type": "markdown",
   "id": "eb84a11e",
   "metadata": {},
   "source": [
    "# 列表和元组基础\n",
    "\n",
    "- 实际上，列表和元组都是**一个可以放置人意数据类型的有序集合**。\n",
    "- 大多数编程语言中，集合的数据类型必须一致。对于python的列表和元组来说并无此要求。"
   ]
  },
  {
   "cell_type": "code",
   "execution_count": 3,
   "id": "cde71bd1",
   "metadata": {
    "ExecuteTime": {
     "end_time": "2022-04-11T14:39:16.743436Z",
     "start_time": "2022-04-11T14:39:16.727479Z"
    }
   },
   "outputs": [
    {
     "name": "stdout",
     "output_type": "stream",
     "text": [
      "[1, 2, 'hello', 'world']\n"
     ]
    },
    {
     "data": {
      "text/plain": [
       "22"
      ]
     },
     "execution_count": 3,
     "metadata": {},
     "output_type": "execute_result"
    }
   ],
   "source": [
    "\n",
    "l = [1, 2, 'hello', 'world'] # 列表中同时含有int和string类型的元素\n",
    "print(l)\n",
    "\n",
    "tup = ('jason', 22) # 元组中同时含有int和string类型的元素\n",
    "tup[1]"
   ]
  },
  {
   "cell_type": "markdown",
   "id": "563b0681",
   "metadata": {},
   "source": [
    "# 列表和元组的区别\n",
    "- **列表是动态的，长度大小不定，可以随意地增删改元素**。\n",
    "- **元组是静态的，长度大小规定，无法增加删减或者改变**。"
   ]
  },
  {
   "cell_type": "code",
   "execution_count": 2,
   "id": "932739ba",
   "metadata": {
    "ExecuteTime": {
     "end_time": "2022-04-11T14:38:59.825227Z",
     "start_time": "2022-04-11T14:38:59.649650Z"
    }
   },
   "outputs": [
    {
     "name": "stdout",
     "output_type": "stream",
     "text": [
      "[1, 2, 3, 40]\n"
     ]
    },
    {
     "ename": "TypeError",
     "evalue": "'tuple' object does not support item assignment",
     "output_type": "error",
     "traceback": [
      "\u001b[1;31m---------------------------------------------------------------------------\u001b[0m",
      "\u001b[1;31mTypeError\u001b[0m                                 Traceback (most recent call last)",
      "\u001b[1;32m<ipython-input-2-561ee1bb02a5>\u001b[0m in \u001b[0;36m<module>\u001b[1;34m\u001b[0m\n\u001b[0;32m      5\u001b[0m \u001b[1;33m\u001b[0m\u001b[0m\n\u001b[0;32m      6\u001b[0m \u001b[0mtup\u001b[0m \u001b[1;33m=\u001b[0m \u001b[1;33m(\u001b[0m\u001b[1;36m1\u001b[0m\u001b[1;33m,\u001b[0m \u001b[1;36m2\u001b[0m\u001b[1;33m,\u001b[0m \u001b[1;36m3\u001b[0m\u001b[1;33m,\u001b[0m \u001b[1;36m4\u001b[0m\u001b[1;33m)\u001b[0m\u001b[1;33m\u001b[0m\u001b[1;33m\u001b[0m\u001b[0m\n\u001b[1;32m----> 7\u001b[1;33m \u001b[0mtup\u001b[0m\u001b[1;33m[\u001b[0m\u001b[1;36m3\u001b[0m\u001b[1;33m]\u001b[0m \u001b[1;33m=\u001b[0m \u001b[1;36m40\u001b[0m\u001b[1;33m\u001b[0m\u001b[1;33m\u001b[0m\u001b[0m\n\u001b[0m",
      "\u001b[1;31mTypeError\u001b[0m: 'tuple' object does not support item assignment"
     ]
    }
   ],
   "source": [
    "\n",
    "l = [1, 2, 3, 4]\n",
    "l[3] = 40 # 和很多语言类似，python中索引同样从0开始，l[3]表示访问列表的第四个元素\n",
    "print(l)\n",
    "\n",
    "\n",
    "tup = (1, 2, 3, 4)\n",
    "tup[3] = 40"
   ]
  },
  {
   "cell_type": "markdown",
   "id": "23df33fe",
   "metadata": {},
   "source": [
    "- 如果想要对集合中的元素做出改变的话，**元组只能新开辟一块内存**，创建新的元组了。\n",
    "- 而对列表来说，由于有指向对应内存空间地址的索引信息，只需要在对应的内存单元中改变数据即可，也就是说**修改完还是原来的列表**。"
   ]
  },
  {
   "cell_type": "code",
   "execution_count": 5,
   "id": "fed3402b",
   "metadata": {
    "ExecuteTime": {
     "end_time": "2022-04-11T14:45:19.825933Z",
     "start_time": "2022-04-11T14:45:19.814962Z"
    }
   },
   "outputs": [
    {
     "name": "stdout",
     "output_type": "stream",
     "text": [
      "(1, 2, 3, 4, 5)\n"
     ]
    },
    {
     "data": {
      "text/plain": [
       "[1, 2, 3, 4, 5]"
      ]
     },
     "execution_count": 5,
     "metadata": {},
     "output_type": "execute_result"
    }
   ],
   "source": [
    "\n",
    "tup = (1, 2, 3, 4)\n",
    "new_tup = tup + (5, ) # 创建新的元组new_tup，并依次填充原元组的值\n",
    "print(new_tup)\n",
    "\n",
    "\n",
    "l = [1, 2, 3, 4]\n",
    "l.append(5) # 添加元素5到原列表的末尾\n",
    "l"
   ]
  },
  {
   "cell_type": "markdown",
   "id": "a030e2c1",
   "metadata": {},
   "source": [
    "# 负索引\n",
    "- 和其他语言不同，**python中的列表和元组都支持负数索引**，-1表示最后一个元素，-2表示倒数第二个元素，以此类推。"
   ]
  },
  {
   "cell_type": "code",
   "execution_count": 6,
   "id": "2405d3c5",
   "metadata": {
    "ExecuteTime": {
     "end_time": "2022-04-11T14:47:25.213797Z",
     "start_time": "2022-04-11T14:47:25.193852Z"
    }
   },
   "outputs": [
    {
     "name": "stdout",
     "output_type": "stream",
     "text": [
      "4\n"
     ]
    },
    {
     "data": {
      "text/plain": [
       "4"
      ]
     },
     "execution_count": 6,
     "metadata": {},
     "output_type": "execute_result"
    }
   ],
   "source": [
    "\n",
    "l = [1, 2, 3, 4]\n",
    "print(l[-1])\n",
    "\n",
    "\n",
    "tup = (1, 2, 3, 4)\n",
    "tup[-1]"
   ]
  },
  {
   "cell_type": "markdown",
   "id": "9c5c69d0",
   "metadata": {},
   "source": [
    "# 切片操作\n",
    "- **注意切片的最后一个元素不包含在其中**"
   ]
  },
  {
   "cell_type": "code",
   "execution_count": 7,
   "id": "ef55ecbd",
   "metadata": {
    "ExecuteTime": {
     "end_time": "2022-04-11T14:49:23.040904Z",
     "start_time": "2022-04-11T14:49:23.029896Z"
    }
   },
   "outputs": [
    {
     "name": "stdout",
     "output_type": "stream",
     "text": [
      "[2, 3]\n"
     ]
    },
    {
     "data": {
      "text/plain": [
       "(2, 3)"
      ]
     },
     "execution_count": 7,
     "metadata": {},
     "output_type": "execute_result"
    }
   ],
   "source": [
    "\n",
    "l = [1, 2, 3, 4]\n",
    "print(l[1:3]) # 返回列表中索引从1到2的子列表\n",
    "\n",
    "tup = (1, 2, 3, 4)\n",
    "tup[1:3] # 返回元组中索引从1到2的子元组 "
   ]
  },
  {
   "cell_type": "markdown",
   "id": "fbd8e92e",
   "metadata": {},
   "source": [
    "# 其他操作\n",
    "- 列表和元组之间互相转换"
   ]
  },
  {
   "cell_type": "code",
   "execution_count": 8,
   "id": "a97f313d",
   "metadata": {
    "ExecuteTime": {
     "end_time": "2022-04-11T14:57:30.880723Z",
     "start_time": "2022-04-11T14:57:30.865763Z"
    }
   },
   "outputs": [
    {
     "name": "stdout",
     "output_type": "stream",
     "text": [
      "(1, 2, 3, 4)\n",
      "[1, 2, 3, 4]\n"
     ]
    }
   ],
   "source": [
    "l = [1,2,3,4]\n",
    "tup_1 = tuple(l)\n",
    "l_tup = list(tup_1)\n",
    "print(tup_1)\n",
    "print(l_tup)"
   ]
  },
  {
   "cell_type": "markdown",
   "id": "eb5b4ada",
   "metadata": {},
   "source": [
    "- 常用内置函数"
   ]
  },
  {
   "cell_type": "code",
   "execution_count": 11,
   "id": "f3d750d0",
   "metadata": {
    "ExecuteTime": {
     "end_time": "2022-04-11T15:31:24.203178Z",
     "start_time": "2022-04-11T15:31:24.197195Z"
    }
   },
   "outputs": [
    {
     "name": "stdout",
     "output_type": "stream",
     "text": [
      "2\n",
      "3\n",
      "[1, 8, 7, 3, 2, 3]\n",
      "[1, 2, 3, 3, 7, 8]\n",
      "2\n",
      "3\n",
      "[1, 8, 7, 3, 2, 3]\n",
      "[1, 2, 3, 3, 7, 8]\n"
     ]
    }
   ],
   "source": [
    "\n",
    "l = [3, 2, 3, 7, 8, 1]\n",
    "print(l.count(3))#求集合中3的个数\n",
    "print(l.index(7))#求元素7的下标\n",
    "l.reverse()#倒置\n",
    "print(l)\n",
    "l.sort()#排序\n",
    "print(l)\n",
    "tup = (3, 2, 3, 7, 8, 1)\n",
    "print(tup.count(3))\n",
    "print(tup.index(7))\n",
    "print(list(reversed(tup)))\n",
    "print(sorted(tup))"
   ]
  },
  {
   "cell_type": "markdown",
   "id": "025708fc",
   "metadata": {},
   "source": [
    "# 存储方式的差异"
   ]
  },
  {
   "cell_type": "code",
   "execution_count": 15,
   "id": "9a5dec7b",
   "metadata": {
    "ExecuteTime": {
     "end_time": "2022-04-11T15:50:30.280170Z",
     "start_time": "2022-04-11T15:50:30.270158Z"
    }
   },
   "outputs": [
    {
     "name": "stdout",
     "output_type": "stream",
     "text": [
      "64\n",
      "48\n"
     ]
    }
   ],
   "source": [
    "l = list([1,2,3])\n",
    "tup = tuple([1,2,3])\n",
    "print(l.__sizeof__())\n",
    "print(tup.__sizeof__())"
   ]
  },
  {
   "cell_type": "markdown",
   "id": "037aa8c0",
   "metadata": {},
   "source": [
    "- 可以看到，对列表和元组，我们放置了相同的元素，但是元组的存储空间，却比列表要少 16 字节。这是为什么呢？\n",
    "- 事实上，由于列表是动态的，所以它需要存储指针，来指向对应的元素（上述例子中，对于 int 型，8 字节）。另外，由于列表可变，所以需要额外存储已经分配的长度大小（8 字节），这样才可以实时追踪列表空间的使用情况，当空间不足时，及时分配额外空间。"
   ]
  },
  {
   "cell_type": "markdown",
   "id": "1ee9d93f",
   "metadata": {},
   "source": [
    "![title](./img/1.png)"
   ]
  },
  {
   "cell_type": "markdown",
   "id": "4b22f2d4",
   "metadata": {},
   "source": [
    "# 列表和元组的性能\n",
    "- 元组要比列表更轻量级，总体上性能略优于列表\n",
    "- 另外，Python 会在后台，对静态数据做一些资源缓存（resource caching）。通常来说，因为垃圾回收机制的存在，如果一些变量不被使用了，Python 就会回收它们所占用的内存，返还给操作系统，以便其他变量或其他应用使用。但是对于一些静态变量，比如元组，如果它不被使用并且占用空间不大时，Python 会暂时缓存这部分内存。这样，下次我们再创建同样大小的元组时，Python 就可以不用再向操作系统发出请求，去寻找内存，而是可以直接分配之前缓存的内存空间，这样就能大大加快程序的运行速度。"
   ]
  },
  {
   "cell_type": "markdown",
   "id": "f79457fe",
   "metadata": {},
   "source": [
    "# 列表和元组的使用场景\n",
    "- 如果存储的数据和数量不变，比如你有一个函数，需要返回的是一个地点的经纬度，然后直接传给前端渲染，那么肯定选用元组更合适。\n",
    "- 如果存储的数据或数量是可变的，比如社交平台上的一个日志功能，是统计一个用户在一周之内看了哪些用户的帖子，那么则用列表更合适。"
   ]
  },
  {
   "cell_type": "markdown",
   "id": "9ba090c9",
   "metadata": {},
   "source": [
    "# 思考题\n",
    "- 想创建一个空的列表，我们可以用下面的 A、B 两种方式，请问它们在效率上有什么区别吗？我们应该优先考虑使用哪种呢？可以说说你的理由。"
   ]
  },
  {
   "cell_type": "markdown",
   "id": "1a1e364c",
   "metadata": {},
   "source": [
    "![title](./img/2.png)\n",
    "区别主要在于list()是一个function call，Python的function call会创建stack，并且进行一系列参数检查的操作，比较expensive，反观[]是一个内置的C函数，可以直接被调用，因此效率高。"
   ]
  },
  {
   "cell_type": "code",
   "execution_count": null,
   "id": "a884c2c6",
   "metadata": {},
   "outputs": [],
   "source": []
  }
 ],
 "metadata": {
  "kernelspec": {
   "display_name": "Python 3",
   "language": "python",
   "name": "python3"
  },
  "language_info": {
   "codemirror_mode": {
    "name": "ipython",
    "version": 3
   },
   "file_extension": ".py",
   "mimetype": "text/x-python",
   "name": "python",
   "nbconvert_exporter": "python",
   "pygments_lexer": "ipython3",
   "version": "3.8.8"
  },
  "toc": {
   "base_numbering": 1,
   "nav_menu": {},
   "number_sections": true,
   "sideBar": true,
   "skip_h1_title": false,
   "title_cell": "Table of Contents",
   "title_sidebar": "Contents",
   "toc_cell": false,
   "toc_position": {},
   "toc_section_display": true,
   "toc_window_display": false
  },
  "varInspector": {
   "cols": {
    "lenName": 16,
    "lenType": 16,
    "lenVar": 40
   },
   "kernels_config": {
    "python": {
     "delete_cmd_postfix": "",
     "delete_cmd_prefix": "del ",
     "library": "var_list.py",
     "varRefreshCmd": "print(var_dic_list())"
    },
    "r": {
     "delete_cmd_postfix": ") ",
     "delete_cmd_prefix": "rm(",
     "library": "var_list.r",
     "varRefreshCmd": "cat(var_dic_list()) "
    }
   },
   "types_to_exclude": [
    "module",
    "function",
    "builtin_function_or_method",
    "instance",
    "_Feature"
   ],
   "window_display": false
  }
 },
 "nbformat": 4,
 "nbformat_minor": 5
}
