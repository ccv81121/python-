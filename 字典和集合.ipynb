{
 "cells": [
  {
   "cell_type": "markdown",
   "id": "8068d710",
   "metadata": {},
   "source": [
    "# 字典和集合基础\n",
    "- 字典是一系列键(keys)、值(valuse)配对组成的元素的集合，**在python3.7以后字典被确定成有序**。\n",
    "- 相对于列表和元组，**字典的性能更优秀，特别是对于查找、添加和删除操作，字典都能在常叔时间复杂度内完成**。\n",
    "- 而集合和字典基本相同，唯一的区别，就是集合没有键和值的配对，是一堆无序的、**唯一**的元素组合。"
   ]
  },
  {
   "cell_type": "code",
   "execution_count": 1,
   "id": "b387add4",
   "metadata": {
    "ExecuteTime": {
     "end_time": "2022-04-12T07:08:23.370338Z",
     "start_time": "2022-04-12T07:08:23.354342Z"
    }
   },
   "outputs": [
    {
     "name": "stdout",
     "output_type": "stream",
     "text": [
      "True\n",
      "True\n"
     ]
    }
   ],
   "source": [
    "#字典和集合的创建方法\n",
    "d1 = {'name': 'jason', 'age': 20, 'gender': 'male'}\n",
    "d2 = dict({'name': 'jason', 'age': 20, 'gender': 'male'})\n",
    "d3 = dict([('name', 'jason'), ('age', 20), ('gender', 'male')])\n",
    "d4 = dict(name='jason', age=20, gender='male') \n",
    "print(d1 == d2 == d3 ==d4)\n",
    "\n",
    "s1 = {1, 2, 3}\n",
    "s2 = set([1, 2, 3])\n",
    "print(s1 == s2)"
   ]
  },
  {
   "cell_type": "markdown",
   "id": "710ba3fc",
   "metadata": {},
   "source": [
    "- 字典和集合，无论是键还是值，都可以是混合类型。\n",
    "- 字典访问可以直接索引键，如果不存在，就会抛出异常："
   ]
  },
  {
   "cell_type": "code",
   "execution_count": 2,
   "id": "f2f1a55c",
   "metadata": {
    "ExecuteTime": {
     "end_time": "2022-04-12T07:11:13.917140Z",
     "start_time": "2022-04-12T07:11:13.703711Z"
    }
   },
   "outputs": [
    {
     "name": "stdout",
     "output_type": "stream",
     "text": [
      "jason\n"
     ]
    },
    {
     "ename": "KeyError",
     "evalue": "'location'",
     "output_type": "error",
     "traceback": [
      "\u001b[1;31m---------------------------------------------------------------------------\u001b[0m",
      "\u001b[1;31mKeyError\u001b[0m                                  Traceback (most recent call last)",
      "\u001b[1;32m<ipython-input-2-12a67a63cbb2>\u001b[0m in \u001b[0;36m<module>\u001b[1;34m\u001b[0m\n\u001b[0;32m      1\u001b[0m \u001b[0md\u001b[0m \u001b[1;33m=\u001b[0m \u001b[1;33m{\u001b[0m\u001b[1;34m'name'\u001b[0m\u001b[1;33m:\u001b[0m \u001b[1;34m'jason'\u001b[0m\u001b[1;33m,\u001b[0m \u001b[1;34m'age'\u001b[0m\u001b[1;33m:\u001b[0m \u001b[1;36m20\u001b[0m\u001b[1;33m}\u001b[0m\u001b[1;33m\u001b[0m\u001b[1;33m\u001b[0m\u001b[0m\n\u001b[0;32m      2\u001b[0m \u001b[0mprint\u001b[0m\u001b[1;33m(\u001b[0m\u001b[0md\u001b[0m\u001b[1;33m[\u001b[0m\u001b[1;34m'name'\u001b[0m\u001b[1;33m]\u001b[0m\u001b[1;33m)\u001b[0m\u001b[1;33m\u001b[0m\u001b[1;33m\u001b[0m\u001b[0m\n\u001b[1;32m----> 3\u001b[1;33m \u001b[0md\u001b[0m\u001b[1;33m[\u001b[0m\u001b[1;34m'location'\u001b[0m\u001b[1;33m]\u001b[0m\u001b[1;33m\u001b[0m\u001b[1;33m\u001b[0m\u001b[0m\n\u001b[0m",
      "\u001b[1;31mKeyError\u001b[0m: 'location'"
     ]
    }
   ],
   "source": [
    "# 字典的访问\n",
    "d = {'name': 'jason', 'age': 20}\n",
    "print(d['name'])\n",
    "d['location']"
   ]
  },
  {
   "cell_type": "markdown",
   "id": "da75b389",
   "metadata": {},
   "source": [
    "- 也可以使用 get(key, default) 函数来进行索引。如果键不存在，调用 get() 函数可以返回一个默认值。比如下面这个示例，返回了'null'。"
   ]
  },
  {
   "cell_type": "code",
   "execution_count": 4,
   "id": "80f9ea0d",
   "metadata": {
    "ExecuteTime": {
     "end_time": "2022-04-12T07:13:54.365142Z",
     "start_time": "2022-04-12T07:13:54.345148Z"
    }
   },
   "outputs": [
    {
     "name": "stdout",
     "output_type": "stream",
     "text": [
      "jason\n",
      "null\n",
      "不存在\n"
     ]
    }
   ],
   "source": [
    "# 字典的get函数\n",
    "d = {'name': 'jason', 'age': 20}\n",
    "print(d.get('name'))\n",
    "print(d.get('location', 'null'))\n",
    "print(d.get('location', '不存在'))"
   ]
  },
  {
   "cell_type": "markdown",
   "id": "0cd088be",
   "metadata": {},
   "source": [
    "- ***集合不支持索引操作，因为集合本身是一个哈希表，和列表不一样。***"
   ]
  },
  {
   "cell_type": "code",
   "execution_count": 5,
   "id": "69fa8378",
   "metadata": {
    "ExecuteTime": {
     "end_time": "2022-04-12T07:17:11.860645Z",
     "start_time": "2022-04-12T07:17:11.846651Z"
    }
   },
   "outputs": [
    {
     "ename": "TypeError",
     "evalue": "'set' object is not subscriptable",
     "output_type": "error",
     "traceback": [
      "\u001b[1;31m---------------------------------------------------------------------------\u001b[0m",
      "\u001b[1;31mTypeError\u001b[0m                                 Traceback (most recent call last)",
      "\u001b[1;32m<ipython-input-5-a1ff9f71b7bd>\u001b[0m in \u001b[0;36m<module>\u001b[1;34m\u001b[0m\n\u001b[0;32m      1\u001b[0m \u001b[1;31m# set的访问\u001b[0m\u001b[1;33m\u001b[0m\u001b[1;33m\u001b[0m\u001b[1;33m\u001b[0m\u001b[0m\n\u001b[0;32m      2\u001b[0m \u001b[0ms\u001b[0m \u001b[1;33m=\u001b[0m \u001b[1;33m{\u001b[0m\u001b[1;36m1\u001b[0m\u001b[1;33m,\u001b[0m \u001b[1;36m2\u001b[0m\u001b[1;33m,\u001b[0m \u001b[1;36m3\u001b[0m\u001b[1;33m}\u001b[0m\u001b[1;33m\u001b[0m\u001b[1;33m\u001b[0m\u001b[0m\n\u001b[1;32m----> 3\u001b[1;33m \u001b[0ms\u001b[0m\u001b[1;33m[\u001b[0m\u001b[1;36m0\u001b[0m\u001b[1;33m]\u001b[0m\u001b[1;33m\u001b[0m\u001b[1;33m\u001b[0m\u001b[0m\n\u001b[0m",
      "\u001b[1;31mTypeError\u001b[0m: 'set' object is not subscriptable"
     ]
    }
   ],
   "source": [
    "# set的访问\n",
    "s = {1, 2, 3}\n",
    "s[0]"
   ]
  },
  {
   "cell_type": "code",
   "execution_count": 6,
   "id": "885319cc",
   "metadata": {
    "ExecuteTime": {
     "end_time": "2022-04-12T07:18:38.895142Z",
     "start_time": "2022-04-12T07:18:38.876156Z"
    }
   },
   "outputs": [
    {
     "name": "stdout",
     "output_type": "stream",
     "text": [
      "True\n",
      "False\n",
      "True\n",
      "False\n"
     ]
    }
   ],
   "source": [
    "# 想要判断一个元素在不在字典或集合内，我们可以用 value in dict/set 来判断。\n",
    "\n",
    "s = {1, 2, 3}\n",
    "print(1 in s)\n",
    "\n",
    "print(10 in s)\n",
    "\n",
    "d = {'name': 'jason', 'age': 20}\n",
    "print('name' in d)\n",
    "\n",
    "print('location' in d)"
   ]
  },
  {
   "cell_type": "code",
   "execution_count": 11,
   "id": "793f1e16",
   "metadata": {
    "ExecuteTime": {
     "end_time": "2022-04-12T07:22:18.879460Z",
     "start_time": "2022-04-12T07:22:18.870483Z"
    }
   },
   "outputs": [
    {
     "name": "stdout",
     "output_type": "stream",
     "text": [
      "{'name': 'jason', 'age': 20, 'gender': 'male', 'dob': '1999-02-01'}\n",
      "{'name': 'jason', 'age': 20, 'gender': 'male'}\n",
      "1998-01-01\n",
      "{1, 2, 3, 4}\n",
      "{1, 2, 3}\n"
     ]
    }
   ],
   "source": [
    "# 当然，除了创建和访问，字典和集合也同样支持增加、删除、更新等操作。\n",
    "\n",
    "d = {'name': 'jason', 'age': 20}\n",
    "d['gender'] = 'male' # 增加元素对'gender': 'male'\n",
    "d['dob'] = '1999-02-01' # 增加元素对'dob': '1999-02-01'\n",
    "print(d)\n",
    "\n",
    "d['dob'] = '1998-01-01' # 更新键'dob'对应的值 \n",
    "elm  = d.pop('dob') # 删除键为'dob'的元素对，并且返回value\n",
    "\n",
    "print(d)\n",
    "print(elm)\n",
    "\n",
    "s = {1, 2, 3}\n",
    "s.add(4) # 增加元素4到集合\n",
    "print(s)\n",
    "\n",
    "s.remove(4) # 从集合中删除元素4\n",
    "print(s)"
   ]
  },
  {
   "cell_type": "markdown",
   "id": "b8b2529a",
   "metadata": {},
   "source": [
    "- ***集合的pop()操作是删除集合中的最后一个元素。可是集合本身是无序的，无法知道会删除哪个元素，因此这个操作慎用***。\n",
    "- 实际应用中，很多情况下，我们需要对字典或集合进行排序，比如取出值最大的50对。\n",
    "- 对于字典，我们通常会根据键或值，进行升序或者降序排序。"
   ]
  },
  {
   "cell_type": "code",
   "execution_count": 16,
   "id": "b68408f6",
   "metadata": {
    "ExecuteTime": {
     "end_time": "2022-04-12T07:33:33.474891Z",
     "start_time": "2022-04-12T07:33:33.461924Z"
    }
   },
   "outputs": [
    {
     "name": "stdout",
     "output_type": "stream",
     "text": [
      "[('c', 10), ('b', 1), ('a', 2)]\n",
      "[('b', 1), ('a', 2), ('c', 10)]\n"
     ]
    }
   ],
   "source": [
    "# 排序操作\n",
    "d = {'b': 1, 'a': 2, 'c': 10}\n",
    "'''\n",
    "sorted(iterable, key=None, reverse=False)，iterable 表示指定的序列，key 参数可以自定义排序规则；\n",
    "reverse 参数指定以升序（False，默认）还是降序（True）进行排序\n",
    "'''\n",
    "d_sorted_by_key = sorted(d.items(), key=lambda x: x[0], reverse=True) # 根据字典键的降序排序\n",
    "d_sorted_by_value = sorted(d.items(), key=lambda x: x[1]) # 根据字典值的升序排序\n",
    "print(d_sorted_by_key)\n",
    "\n",
    "print(d_sorted_by_value)"
   ]
  },
  {
   "cell_type": "markdown",
   "id": "69618b3f",
   "metadata": {},
   "source": [
    "- 对于集合，其排序和列表、元组类似，直接调用sorted(set)即可，**结果会返回一个排好序的列表。**"
   ]
  },
  {
   "cell_type": "code",
   "execution_count": 17,
   "id": "0b4897a7",
   "metadata": {
    "ExecuteTime": {
     "end_time": "2022-04-12T07:39:54.214279Z",
     "start_time": "2022-04-12T07:39:54.199321Z"
    }
   },
   "outputs": [
    {
     "data": {
      "text/plain": [
       "[1, 2, 3, 5]"
      ]
     },
     "execution_count": 17,
     "metadata": {},
     "output_type": "execute_result"
    }
   ],
   "source": [
    "s = {3,2,1,5}\n",
    "sorted(s)"
   ]
  },
  {
   "cell_type": "markdown",
   "id": "5543a51e",
   "metadata": {},
   "source": [
    "# 字典和集合的性能"
   ]
  },
  {
   "cell_type": "code",
   "execution_count": 20,
   "id": "2b25bdbb",
   "metadata": {
    "ExecuteTime": {
     "end_time": "2022-04-12T07:48:20.451778Z",
     "start_time": "2022-04-12T07:48:20.432272Z"
    }
   },
   "outputs": [
    {
     "name": "stdout",
     "output_type": "stream",
     "text": [
      "The price of product 432314553 is 30\n"
     ]
    }
   ],
   "source": [
    "# 若用列表进行存储，则对应的查询方式如下:\n",
    "def find_product_price(products, product_id):\n",
    "    for id,price in products:\n",
    "        if id == product_id:\n",
    "            return price\n",
    "    return None\n",
    "\n",
    "products = [\n",
    "    (143121312, 100),\n",
    "    (432314553, 30), \n",
    "    (32421912367, 150)\n",
    "]\n",
    "\n",
    "print('The price of product 432314553 is {}'.format(find_product_price(products,432314553)))"
   ]
  },
  {
   "cell_type": "markdown",
   "id": "6431c1e1",
   "metadata": {},
   "source": [
    "- 假设列表有 n 个元素，而查找的过程要遍历列表，那么时间复杂度就为 O(n)。即使我们先对列表进行排序，然后使用二分查找，也会需要 O(logn) 的时间复杂度，更何况，列表的排序还需要 O(nlogn) 的时间。\n",
    "- 但如果我们用字典来存储这些数据，那么查找就会非常便捷高效，只需 O(1) 的时间复杂度就可以完成。原因也很简单，刚刚提到过的，字典的内部组成是一张哈希表，你可以直接通过键的哈希值，找到其对应的值。"
   ]
  },
  {
   "cell_type": "code",
   "execution_count": 21,
   "id": "0fe69d4f",
   "metadata": {
    "ExecuteTime": {
     "end_time": "2022-04-12T07:51:11.963814Z",
     "start_time": "2022-04-12T07:51:11.952854Z"
    }
   },
   "outputs": [
    {
     "name": "stdout",
     "output_type": "stream",
     "text": [
      "The price of product 432314553 is 30\n"
     ]
    }
   ],
   "source": [
    "# 按字典存储的查询方法：\n",
    "products = { \n",
    "    143121312: 100, \n",
    "    432314553: 30,\n",
    "    32421912367: 150\n",
    "}\n",
    "print('The price of product 432314553 is {}'.format(products[432314553]))"
   ]
  },
  {
   "cell_type": "markdown",
   "id": "3302264a",
   "metadata": {},
   "source": [
    "类似的，现在需求变成，要找出这些商品有多少种不同的价格。我们还用同样的方法来比较一下。\n",
    "如果还是选择使用列表，对应的代码如下，其中，A 和 B 是两层循环。同样假设原始列表有 n 个元素，那么，在最差情况下，需要 O(n^2) 的时间复杂度。"
   ]
  },
  {
   "cell_type": "code",
   "execution_count": 22,
   "id": "125dd9a9",
   "metadata": {
    "ExecuteTime": {
     "end_time": "2022-04-12T07:54:44.619896Z",
     "start_time": "2022-04-12T07:54:44.605933Z"
    }
   },
   "outputs": [],
   "source": [
    "products = [ \n",
    "    (143121312, 100), \n",
    "    (432314553, 30), \n",
    "    (32421912367, 150),\n",
    "    (937153201, 30)\n",
    "]"
   ]
  },
  {
   "cell_type": "code",
   "execution_count": 29,
   "id": "8c4a9d7f",
   "metadata": {
    "ExecuteTime": {
     "end_time": "2022-04-12T08:12:07.050397Z",
     "start_time": "2022-04-12T08:12:07.042417Z"
    }
   },
   "outputs": [
    {
     "name": "stdout",
     "output_type": "stream",
     "text": [
      "number of unique price is: 3\n"
     ]
    }
   ],
   "source": [
    "# list版本：\n",
    "def find_unique_price_list(products):\n",
    "    unique_price_list = []\n",
    "    for id,price in products:#A\n",
    "        if price not in unique_price_list:#B\n",
    "            unique_price_list.append(price)\n",
    "    return len(unique_price_list)\n",
    "\n",
    "print(\"number of unique price is: {}\".format(find_unique_price_list(products)))"
   ]
  },
  {
   "cell_type": "markdown",
   "id": "62d4769e",
   "metadata": {},
   "source": [
    "- 但如果我们选择使用集合这个数据结构，由于集合是高度优化的哈希表，里面元素不能重复，并且其添加和查找操作只需 O(1) 的复杂度，那么，总的时间复杂度就只有 O(n)"
   ]
  },
  {
   "cell_type": "code",
   "execution_count": 30,
   "id": "0f7c2fb9",
   "metadata": {
    "ExecuteTime": {
     "end_time": "2022-04-12T08:12:09.669423Z",
     "start_time": "2022-04-12T08:12:09.664434Z"
    }
   },
   "outputs": [
    {
     "name": "stdout",
     "output_type": "stream",
     "text": [
      "number of unique price is: 3\n"
     ]
    }
   ],
   "source": [
    "# set版本：\n",
    "def find_unique_price_set(products):\n",
    "    unique_price_set = set()\n",
    "    for id,price in products:\n",
    "        unique_price_set.add(price)\n",
    "    return len(unique_price_set)\n",
    "print(\"number of unique price is: {}\".format(find_unique_price_set(products)))       "
   ]
  },
  {
   "cell_type": "markdown",
   "id": "f82fe137",
   "metadata": {},
   "source": [
    "- 假设有100000个元素的产品，分别计算使用列表和集合来统计产品价格数量的运行时间："
   ]
  },
  {
   "cell_type": "code",
   "execution_count": 32,
   "id": "ac0149d7",
   "metadata": {
    "ExecuteTime": {
     "end_time": "2022-04-12T08:16:33.897467Z",
     "start_time": "2022-04-12T08:15:30.228501Z"
    }
   },
   "outputs": [
    {
     "name": "stdout",
     "output_type": "stream",
     "text": [
      "time elapse using list: 63.6363717000022\n"
     ]
    }
   ],
   "source": [
    "import time\n",
    "\n",
    "ids = [x for x in range(0, 100000)]\n",
    "prices = [x for x in range(200000,300000)]\n",
    "products = list(zip(ids,prices))\n",
    "\n",
    "# 计算列表版本的时间\n",
    "start = time.perf_counter()\n",
    "find_unique_price_list(products)\n",
    "end = time.perf_counter()\n",
    "print(\"time elapse using list: {}\".format(end - start))"
   ]
  },
  {
   "cell_type": "code",
   "execution_count": 33,
   "id": "f8759b79",
   "metadata": {
    "ExecuteTime": {
     "end_time": "2022-04-12T08:17:36.871112Z",
     "start_time": "2022-04-12T08:17:36.843185Z"
    }
   },
   "outputs": [
    {
     "name": "stdout",
     "output_type": "stream",
     "text": [
      "time elapse using list: 0.012224400001286995\n"
     ]
    }
   ],
   "source": [
    "start = time.perf_counter()\n",
    "find_unique_price_set(products)\n",
    "end = time.perf_counter()\n",
    "print(\"time elapse using list: {}\".format(end - start))"
   ]
  },
  {
   "cell_type": "markdown",
   "id": "42cbeea4",
   "metadata": {},
   "source": [
    "- 可以看到，仅仅十万的数据量，两者的速度差异就如此之大。事实上，大型企业的后台数据往往有上亿乃至十亿数量级，如果使用了不合适的数据结构，就很容易造成服务器的崩溃，不但影响用户体验，并且会给公司带来巨大的财产损失。"
   ]
  },
  {
   "cell_type": "markdown",
   "id": "a7f0df0e",
   "metadata": {},
   "source": [
    "# 字典和集合的工作原理"
   ]
  },
  {
   "cell_type": "markdown",
   "id": "d63e05ee",
   "metadata": {},
   "source": [
    "- 对于字典而言，这张表存储了哈希值（hash）、键和值这三个元素。\n",
    "- 对于集合来说，区别就是哈希表内没有键和值的匹对，只有单一的元素。"
   ]
  },
  {
   "cell_type": "markdown",
   "id": "adde3cb2",
   "metadata": {},
   "source": [
    "## 老版本Python的哈希表结构\n",
    "![title](./img/3.png)\n",
    "不难想象，随着哈希表的扩张，它会变得越来越稀疏。举个例子，比如我有这样一个字典：\n",
    "![title](./img/4.png)"
   ]
  },
  {
   "cell_type": "markdown",
   "id": "fd5f5b56",
   "metadata": {},
   "source": [
    "## 新版本python的哈希表结构\n",
    "这样的设计结构显然非常浪费存储空间。为了提高存储空间的利用率，现在的哈希表除了字典本身的结构，会把索引和哈希值、键、值单独分开，也就是下面这样新的结构：\n",
    "![title](./img/5.png)\n",
    "那么，刚刚的这个例子，在新的哈希表结构下的存储形式，就会变成下面这样：\n",
    "![title](./img/6.png)\n",
    "我们可以很清晰地看到，空间利用率得到很大的提高。"
   ]
  },
  {
   "cell_type": "markdown",
   "id": "83f89890",
   "metadata": {},
   "source": [
    "# 插入操作\n",
    "每次向字典或集合插入一个元素时，Python会首先计算键的哈希值（hash(key)）,再和mask=PyDicMinSize -1做与操作，计算这个元素应该插入哈希表的位置index = hash(key)&mask。如果哈希表中此时这个位置是空的，那么这个元素就会被插入其中。\n",
    "而如果此位置已被占用，Python便会比较两个元素的哈希值和键是否相等。\n",
    "- 若两者都相等，则表明这个元素已经存在，如果值不同，则更新值。\n",
    "- 若两者有一个不相等，这种情况便被称为哈子冲突(hash collision),意思是两个元素的键不相等，但是哈希值相等。这种情况下，Python便会继续寻找表中空余的位置，直到找到位置为止。\n",
    "\n",
    "值得一提的是，通常来说，遇到这种情况，最简单的方式是线性寻找，**即从这个位置开始，挨个往后寻找空位。当然，Python内部进行了优化。**"
   ]
  },
  {
   "cell_type": "markdown",
   "id": "ffa79875",
   "metadata": {},
   "source": [
    "# 查找操作\n",
    "和前面的插入操作类似，Python 会根据哈希值，找到其应该处于的位置；然后，比较哈希表这个位置中元素的哈希值和键，与需要查找的元素是否相等。如果相等，则直接返回；如果不等，则继续查找，直到找到空位或者抛出异常为止。"
   ]
  },
  {
   "cell_type": "markdown",
   "id": "bd4797db",
   "metadata": {},
   "source": [
    "# 删除操作\n",
    "- 对于删除操作，Python会暂时对这个位置的元素，赋予一个特殊的值，等到重新调整哈希表的大小时，再将其删除。\n",
    "- 不难理解，哈希冲突的发生，往往会降低字典和集合操作的速度。因此，为了保证其高效性，字典和集合内的哈希表，通常会保证其至少留有三分之一的剩余空间。随着元素的不停插入，当剩余空间小于三分之一时，Pyhon会获取更大的内存空间，扩充哈希表。不过，这种情况下，表内所有的元素位置都会被重新排放。\n",
    "- 虽然哈希冲突和哈希表大小的调整，都会导致速度减缓，但是这种情况发生的次数极少。所以，平均情况下，这仍能保证插入、查找和删除的时间复杂度为O（1）。"
   ]
  },
  {
   "cell_type": "markdown",
   "id": "cfe5f870",
   "metadata": {},
   "source": [
    "# 思考题\n",
    "字典的键可以是一个列表吗？下面这段代码中，字典的初始化是否正确呢？如果不正确，可以说出你的原因吗？"
   ]
  },
  {
   "cell_type": "code",
   "execution_count": 1,
   "id": "ffb06372",
   "metadata": {
    "ExecuteTime": {
     "end_time": "2022-04-13T12:21:08.328104Z",
     "start_time": "2022-04-13T12:21:08.047835Z"
    }
   },
   "outputs": [
    {
     "ename": "TypeError",
     "evalue": "unhashable type: 'list'",
     "output_type": "error",
     "traceback": [
      "\u001b[1;31m---------------------------------------------------------------------------\u001b[0m",
      "\u001b[1;31mTypeError\u001b[0m                                 Traceback (most recent call last)",
      "\u001b[1;32m<ipython-input-1-679873a67c57>\u001b[0m in \u001b[0;36m<module>\u001b[1;34m\u001b[0m\n\u001b[1;32m----> 1\u001b[1;33m \u001b[0md\u001b[0m \u001b[1;33m=\u001b[0m \u001b[1;33m{\u001b[0m\u001b[1;34m'name'\u001b[0m\u001b[1;33m:\u001b[0m \u001b[1;34m'jason'\u001b[0m\u001b[1;33m,\u001b[0m \u001b[1;33m[\u001b[0m\u001b[1;34m'education'\u001b[0m\u001b[1;33m]\u001b[0m\u001b[1;33m:\u001b[0m \u001b[1;33m[\u001b[0m\u001b[1;34m'Tsinghua University'\u001b[0m\u001b[1;33m,\u001b[0m \u001b[1;34m'Stanford University'\u001b[0m\u001b[1;33m]\u001b[0m\u001b[1;33m}\u001b[0m\u001b[1;33m\u001b[0m\u001b[1;33m\u001b[0m\u001b[0m\n\u001b[0m",
      "\u001b[1;31mTypeError\u001b[0m: unhashable type: 'list'"
     ]
    }
   ],
   "source": [
    "d = {'name': 'jason', ['education']: ['Tsinghua University', 'Stanford University']}"
   ]
  },
  {
   "cell_type": "markdown",
   "id": "39d89370",
   "metadata": {},
   "source": [
    "用列表作为 Key 在这里是不被允许的，因为列表是一个动态变化的数据结构，字典当中的 key 要求是不可变的，原因也很好理解，key 首先是不重复的，如果 Key 是可以变化的话，那么随着 Key 的变化，这里就有可能就会有重复的 Key，那么这就和字典的定义相违背；如果把这里的列表换成之前我们讲过的元组是可以的，因为元组不可变"
   ]
  }
 ],
 "metadata": {
  "kernelspec": {
   "display_name": "Python 3",
   "language": "python",
   "name": "python3"
  },
  "language_info": {
   "codemirror_mode": {
    "name": "ipython",
    "version": 3
   },
   "file_extension": ".py",
   "mimetype": "text/x-python",
   "name": "python",
   "nbconvert_exporter": "python",
   "pygments_lexer": "ipython3",
   "version": "3.8.8"
  },
  "toc": {
   "base_numbering": 1,
   "nav_menu": {},
   "number_sections": true,
   "sideBar": true,
   "skip_h1_title": false,
   "title_cell": "Table of Contents",
   "title_sidebar": "Contents",
   "toc_cell": false,
   "toc_position": {},
   "toc_section_display": true,
   "toc_window_display": false
  },
  "varInspector": {
   "cols": {
    "lenName": 16,
    "lenType": 16,
    "lenVar": 40
   },
   "kernels_config": {
    "python": {
     "delete_cmd_postfix": "",
     "delete_cmd_prefix": "del ",
     "library": "var_list.py",
     "varRefreshCmd": "print(var_dic_list())"
    },
    "r": {
     "delete_cmd_postfix": ") ",
     "delete_cmd_prefix": "rm(",
     "library": "var_list.r",
     "varRefreshCmd": "cat(var_dic_list()) "
    }
   },
   "types_to_exclude": [
    "module",
    "function",
    "builtin_function_or_method",
    "instance",
    "_Feature"
   ],
   "window_display": false
  }
 },
 "nbformat": 4,
 "nbformat_minor": 5
}
